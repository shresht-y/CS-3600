{
 "cells": [
  {
   "cell_type": "markdown",
   "metadata": {},
   "source": [
    "---"
   ]
  },
  {
   "cell_type": "markdown",
   "metadata": {},
   "source": [
    "### If you are reading this notebook on GitHub, please go to [README](./README.md) and follow the installation instructions to set everything up locally. This is an interactive notebook and you need a local setup to execute the cells. "
   ]
  },
  {
   "cell_type": "markdown",
   "metadata": {},
   "source": [
    "---"
   ]
  },
  {
   "cell_type": "markdown",
   "metadata": {},
   "source": [
    "# Welcome to Jupyter!\n",
    "\n",
    "In this notebook, you will learn what jupyter notebooks are, get a refresher on python and learn some basic `git` operations which may be useful for future assignments. At the end of the notebook you will complete a simple function and make your first submission."
   ]
  },
  {
   "cell_type": "markdown",
   "metadata": {},
   "source": [
    "# Table of contents\n",
    "\n",
    "0. [Verify setup](#setup)\n",
    "1. [What is Jupyter?](#jupyter)\n",
    "2. [Interface and Hotkeys](#interface)\n",
    "3. [Python Refresher](#python)\n",
    "4. [Git Basics](#git)\n",
    "5. [Your first Submission](#submission) **(GRADED!)**\n",
    "6. [Summary](#summary)"
   ]
  },
  {
   "cell_type": "markdown",
   "metadata": {},
   "source": [
    "<a name=\"setup\"/></a> <!-- link used in table of contents -->\n",
    "## Verifying local setup\n",
    "\n",
    "First, let's make sure you have installed the correct versions of all of the libraries.\n",
    "\n",
    "Simply run the cell below. You can click on the cell and press `⇧↩` (Shift + Enter) to run it."
   ]
  },
  {
   "cell_type": "code",
   "execution_count": null,
   "metadata": {
    "scrolled": true
   },
   "outputs": [],
   "source": [
    "%run helpers/verify_config.py"
   ]
  },
  {
   "cell_type": "markdown",
   "metadata": {},
   "source": [
    "If you see any warning/error messages, please make sure you have followed the installation instructions in the [README](./README.md). In case you can't resolve them please check out Piazza thread dedicated to \"Assignment 0\"."
   ]
  },
  {
   "cell_type": "markdown",
   "metadata": {},
   "source": [
    "---"
   ]
  },
  {
   "cell_type": "markdown",
   "metadata": {},
   "source": [
    "<a name=\"jupyter\"/></a> <!-- <-this link used in table of contents -->\n",
    "## What are Jupyter notebooks?"
   ]
  },
  {
   "cell_type": "markdown",
   "metadata": {},
   "source": [
    "![Jupyter Logo](https://jupyter.org/assets/nav_logo.svg)\n",
    "\n",
    "Jupyter notebooks are an interactive tool for iterative development and prototyping. When learning new concepts it is helpful to be able to look at intermediary results, take notes in Markdown/LaTeX, and have visualizations. All this is possible to achieve using jupyter notebooks."
   ]
  },
  {
   "cell_type": "markdown",
   "metadata": {},
   "source": [
    "In some of the future assignments, notebooks will be used to guide you through the assignment. The main purpose of using notebooks is to reduce the steep learning curve, help you get started quickly by walking you through basic examples, and expose you to APIs used in the assignments. This way, you can focus on understanding the concepts rather than digging down into the implementation details of unrelated bits of code. Jupyter is also very useful when you are debugging things, since you can easily check/modify the content of your variables, without having to rerun all of your code."
   ]
  },
  {
   "cell_type": "markdown",
   "metadata": {},
   "source": [
    " "
   ]
  },
  {
   "cell_type": "markdown",
   "metadata": {},
   "source": [
    "### Cell types \n",
    "Every jupyter notebook consists of cells. Cells come in different types. For the most part, you need to just know two types of cells: Markdown and Code. You can change the type of a cell by clicking on the cell and selecting the type in the toolbar above (Cell>Cell Type). By default all new cells are `Code` type."
   ]
  },
  {
   "cell_type": "markdown",
   "metadata": {},
   "source": [
    "In **Markdown** cells you can provide comments, format them, and write LaTeX. This cell you are reading right now is a [Markdown](https://github.com/adam-p/markdown-here/wiki/Markdown-Cheatsheet) cell. To edit it, you can select it and press 'Enter' or just double click it with your mouse. Once you are done editing it, you can press `⇧↩` (Shift + Enter) to render it as Markdown."
   ]
  },
  {
   "cell_type": "markdown",
   "metadata": {},
   "source": [
    "In **Code** cells you can write code. You can write single or multiple lines of code and you can execute them by pressing `⇧↩` (Shift + Enter)."
   ]
  },
  {
   "cell_type": "markdown",
   "metadata": {},
   "source": [
    " "
   ]
  },
  {
   "cell_type": "markdown",
   "metadata": {},
   "source": [
    "### Basic example\n",
    "\n",
    "Now, let's start with some simple examples and write some basic python. Use `⇧↩` (Shift + Enter) to run the cells below. You can either use a mouse to select the cells or use arrow keys to move the selection window consecutively over cells (you will learn more about how to navigate soon)."
   ]
  },
  {
   "cell_type": "code",
   "execution_count": null,
   "metadata": {},
   "outputs": [],
   "source": [
    "1+1"
   ]
  },
  {
   "cell_type": "code",
   "execution_count": null,
   "metadata": {},
   "outputs": [],
   "source": [
    "a = 10"
   ]
  },
  {
   "cell_type": "code",
   "execution_count": null,
   "metadata": {},
   "outputs": [],
   "source": [
    "a"
   ]
  },
  {
   "cell_type": "code",
   "execution_count": null,
   "metadata": {},
   "outputs": [],
   "source": [
    "a + 5"
   ]
  },
  {
   "cell_type": "code",
   "execution_count": null,
   "metadata": {},
   "outputs": [],
   "source": [
    "a"
   ]
  },
  {
   "cell_type": "markdown",
   "metadata": {},
   "source": [
    "Note that you don't need to write\n",
    "```python\n",
    "print(a)\n",
    "```\n",
    "Simply executing the variable will output its value. This only works for the last variable name written. To print multiple variables, you need to explicitly use print."
   ]
  },
  {
   "cell_type": "code",
   "execution_count": null,
   "metadata": {
    "code_folding": []
   },
   "outputs": [],
   "source": [
    "x = 1\n",
    "y = 2\n",
    "z = 3\n",
    "x\n",
    "y\n",
    "z"
   ]
  },
  {
   "cell_type": "code",
   "execution_count": null,
   "metadata": {},
   "outputs": [],
   "source": [
    "print(x)\n",
    "print(y)\n",
    "print(z)"
   ]
  },
  {
   "cell_type": "markdown",
   "metadata": {},
   "source": [
    "One important aspect of jupyter notebooks is that cells can be executed out-of-order. This can be confusing to newcomers. \n",
    "\n",
    "Let's walk through a simple example:"
   ]
  },
  {
   "cell_type": "code",
   "execution_count": null,
   "metadata": {},
   "outputs": [],
   "source": [
    "# Initialize counter to zero\n",
    "counter = 0"
   ]
  },
  {
   "cell_type": "markdown",
   "metadata": {},
   "source": [
    "Run the `counter += 1` cell multiple times:"
   ]
  },
  {
   "cell_type": "code",
   "execution_count": null,
   "metadata": {},
   "outputs": [],
   "source": [
    "# Run this cell multiple times\n",
    "counter += 1"
   ]
  },
  {
   "cell_type": "markdown",
   "metadata": {},
   "source": [
    "Let's see what's the counter is now:"
   ]
  },
  {
   "cell_type": "code",
   "execution_count": null,
   "metadata": {
    "scrolled": true
   },
   "outputs": [],
   "source": [
    "counter"
   ]
  },
  {
   "cell_type": "markdown",
   "metadata": {},
   "source": [
    "Thus, it is not the order that the cells are presented in, but rather the order in which cells are executed that determines the current variable state. Now let's talk to what the kernel does, and what saving the notebook means."
   ]
  },
  {
   "cell_type": "markdown",
   "metadata": {},
   "source": [
    " "
   ]
  },
  {
   "cell_type": "markdown",
   "metadata": {},
   "source": [
    "### Kernels\n",
    "\n",
    "The Kernel is a computational engine which runs behind the notebook and executes code. Jupyter supports over 40 programming languages, including Python, R, Julia, and Scala. The associated kernels can be setup separately and you can also switch between the different kernels, but we won't need to do it in this class as we will only use the Python kernel."
   ]
  },
  {
   "cell_type": "markdown",
   "metadata": {},
   "source": [
    "In the Kernel tab in the toolbar above you should be able to see multiple commands that you can send to the kernel. Here are descriptions of some of them:\n",
    "\n",
    "* **Interrupt** - stops the execution of the code (helpful when you have a long operation but forget to change some parameter, or in case you have an infinite loop)\n",
    "* **Restart** - clears up all of the variables and releases memory\n",
    "* **Restart & Clear Output** - restarts the kernel + clears all of the cell outputs in the notebook\n",
    "* **Restart & Run All** - restarts the kernel + executes all of the cells"
   ]
  },
  {
   "cell_type": "markdown",
   "metadata": {},
   "source": [
    "It's important to note that kernel state can not be saved, i.e. if you stop/restart the kernel you will need to rerun all of the cells to define the variables. **Restart & Clear Output** is often the best option for beginners to use when restarting the kernel, since it is easy to get confused by the previous outputs. "
   ]
  },
  {
   "cell_type": "markdown",
   "metadata": {},
   "source": [
    "For example, consider the following situation:\n",
    "\n",
    "<img src=\"./misc/uncleared_cell.png\" alt=\"uncleared_cell\" width=\"700\"/>\n",
    "\n",
    "Here, the first cell containing the variable declaration was executed before the kernel was restarted. However, the output associated with the previous kernel state was not cleared when restarting. Once the kernel was restarted, running the second cell produced an error despite the first cell's output indicating that the variable was defined. In order to access any variable you need to make sure the variable is defined in the current kernel state, even if you see some output associated with the cell that defines the variable."
   ]
  },
  {
   "cell_type": "markdown",
   "metadata": {},
   "source": [
    "---"
   ]
  },
  {
   "cell_type": "markdown",
   "metadata": {},
   "source": [
    "### Signatures and Docstrings\n",
    "\n",
    "Here are a couple of other things you can do in jupyter. You will find these particularly handy when you will start working on the assignments and want to learn the signatures, docstrings and/or source code of certain classes or functions."
   ]
  },
  {
   "cell_type": "markdown",
   "metadata": {},
   "source": [
    "Run the next two cells:"
   ]
  },
  {
   "cell_type": "code",
   "execution_count": null,
   "metadata": {},
   "outputs": [],
   "source": [
    "# Let's define a function\n",
    "def print_something(n_times=2):\n",
    "    \"\"\"This function shows a greeting message!\"\"\"\n",
    "    assert n_times > 0\n",
    "    for _ in range(n_times):\n",
    "        print(\"Hello from Jupyter!\")"
   ]
  },
  {
   "cell_type": "code",
   "execution_count": null,
   "metadata": {},
   "outputs": [],
   "source": [
    "# Add ? at the end of the function to see its docstring\n",
    "print_something?"
   ]
  },
  {
   "cell_type": "code",
   "execution_count": null,
   "metadata": {},
   "outputs": [],
   "source": [
    "# Same could be achieved if you place the cursor at the end of function name and press ⇧⇥ (Shift + Tab)\n",
    "print_something"
   ]
  },
  {
   "cell_type": "markdown",
   "metadata": {},
   "source": [
    "There are times you might want to look into the source code of a class/function. You can do it by adding `??` after the class/function name."
   ]
  },
  {
   "cell_type": "code",
   "execution_count": null,
   "metadata": {},
   "outputs": [],
   "source": [
    "print_something??"
   ]
  },
  {
   "cell_type": "markdown",
   "metadata": {},
   "source": [
    "It also works for any classes/functions defined outside the notebook."
   ]
  },
  {
   "cell_type": "code",
   "execution_count": null,
   "metadata": {},
   "outputs": [],
   "source": [
    "import numpy as np\n",
    "np.ones??"
   ]
  },
  {
   "cell_type": "code",
   "execution_count": null,
   "metadata": {},
   "outputs": [],
   "source": [
    "# Another way is to place a cursor at the end of the function/class name \n",
    "# and press ⇧⇥⇥ (Shift + Tab + Tab) to show you the docstring\n",
    "np.ones"
   ]
  },
  {
   "cell_type": "markdown",
   "metadata": {},
   "source": [
    "---\n",
    "\n",
    "### Magic commands\n",
    "\n",
    "Jupyter has a number of [magic commands](https://ipython.readthedocs.io/en/stable/interactive/magics.html) you can use (to list all of the magic functions run: `%lsmagic`). You already used one of them above. It was `%run script_name`, which can be used to run `*.py` scripts inside the notebook. This is equivalent to running ``python script_name`` in the terminal. "
   ]
  },
  {
   "cell_type": "markdown",
   "metadata": {},
   "source": [
    "Let's try out the `%time` magic command, which measures the execution time of a cell or line of code. It will be useful in future assignments. For example if you are optimizing the execution speed of your code, you can use this magic command to time different approaches. Here are two ways you can use `%time`:\n",
    "\n",
    "* `%time` - to time a single line of code; **OR**\n",
    "* `%%time` - to time the whole cell\n",
    "\n",
    "Here is an example detailing how `%time` can be used:"
   ]
  },
  {
   "cell_type": "code",
   "execution_count": null,
   "metadata": {},
   "outputs": [],
   "source": [
    "import random"
   ]
  },
  {
   "cell_type": "markdown",
   "metadata": {},
   "source": [
    "Let's create an array of random integers and time it:"
   ]
  },
  {
   "cell_type": "code",
   "execution_count": null,
   "metadata": {},
   "outputs": [],
   "source": [
    "%%time \n",
    "# will time whole cell\n",
    "random_integers = []\n",
    "for _ in range(10000):\n",
    "    random_integers.append(random.randint(0,100))"
   ]
  },
  {
   "cell_type": "markdown",
   "metadata": {},
   "source": [
    "Now, let's time the same operation using list comprehension instead:"
   ]
  },
  {
   "cell_type": "code",
   "execution_count": null,
   "metadata": {},
   "outputs": [],
   "source": [
    "%time random_integers = [random.randint(0,100) for _ in range(10000)] # will time only this line"
   ]
  },
  {
   "cell_type": "markdown",
   "metadata": {},
   "source": [
    "In the next example, we use `%timeit` to compare a standard python vs numpy implementation of scalar multiplication operation on a 1D array. Note that `%timeit` and `%time` are slightly different. You can read about the differences and about other magic commands [here](https://ipython.readthedocs.io/en/stable/interactive/magics.html)."
   ]
  },
  {
   "cell_type": "code",
   "execution_count": null,
   "metadata": {},
   "outputs": [],
   "source": [
    "n_items = 1000000\n",
    "# Create two identical arrays\n",
    "integer_list = list(range(n_items))\n",
    "integer_array = np.arange(n_items)\n",
    "# make sure both 1D arrays are exactly the same\n",
    "assert np.allclose(integer_list, integer_array, rtol=0.0)"
   ]
  },
  {
   "cell_type": "code",
   "execution_count": null,
   "metadata": {},
   "outputs": [],
   "source": [
    "def scalar_mult_1D(somelist):\n",
    "    # inplace operation\n",
    "    for index, value in enumerate(somelist):\n",
    "        somelist[index] = 2 * value\n",
    "    return somelist"
   ]
  },
  {
   "cell_type": "code",
   "execution_count": null,
   "metadata": {},
   "outputs": [],
   "source": [
    "def np_scalar_mult_1D(nplist):\n",
    "    return 2*nplist"
   ]
  },
  {
   "cell_type": "code",
   "execution_count": null,
   "metadata": {},
   "outputs": [],
   "source": [
    "%timeit scalar_mult_1D(integer_list)"
   ]
  },
  {
   "cell_type": "code",
   "execution_count": null,
   "metadata": {},
   "outputs": [],
   "source": [
    "%timeit np_scalar_mult_1D(integer_array)"
   ]
  },
  {
   "cell_type": "code",
   "execution_count": null,
   "metadata": {},
   "outputs": [],
   "source": [
    "integer_list = list(range(n_items))\n",
    "integer_array = np.arange(n_items)\n",
    "integer_list_2x = scalar_mult_1D(integer_list)\n",
    "integer_array_x2 = np_scalar_mult_1D(integer_array)\n",
    "# make sure the resultant arrays are the same\n",
    "assert np.allclose(integer_list, integer_array_x2, rtol=0.0)"
   ]
  },
  {
   "cell_type": "markdown",
   "metadata": {},
   "source": [
    "As you can see, for this simple task python arrays are ~100x slower. You will learn more about numpy later on in the class. For now, we will stick to standard python."
   ]
  },
  {
   "cell_type": "markdown",
   "metadata": {},
   "source": [
    "---"
   ]
  },
  {
   "cell_type": "markdown",
   "metadata": {},
   "source": [
    "<a name=\"interface\"/></a> <!-- <-this link used in table of contents -->\n",
    "# Interface and Hotkeys\n",
    "\n",
    "To learn more about the interface and about jupyter notebooks in general, check out the `Help` section in the menu.\n",
    "\n",
    "Here is the TL;DR version of what you should know."
   ]
  },
  {
   "cell_type": "markdown",
   "metadata": {},
   "source": [
    "---\n",
    "## Modal editor\n",
    "\n",
    "There are two modes in the jupyter: edit mode and command mode.\n"
   ]
  },
  {
   "cell_type": "markdown",
   "metadata": {},
   "source": [
    "### Edit\n",
    "Edit mode is indicated by a green cell border and a prompt showing in the editor area:\n",
    "\n",
    "![edit_image.png](https://nbviewer.jupyter.org/github/ipython/ipython/blob/3.x/examples/Notebook/images/edit_mode.png)\n",
    "\n",
    "You can press **Enter** to enter edit mode or click with a mouse in the editable area."
   ]
  },
  {
   "cell_type": "markdown",
   "metadata": {},
   "source": [
    "### Command\n",
    "Command mode is indicated by a grey cell border:\n",
    "\n",
    "![command_image.png](https://nbviewer.jupyter.org/github/ipython/ipython/blob/3.x/examples/Notebook/images/command_mode.png)\n",
    "\n",
    "Use **Esc** to enable command mode or click outside the editable area of a cell with a mouse.\n",
    "\n",
    "When you are in command mode, you can edit the notebook as a whole, but you cannot type into individual cells. Most importantly, the keyboard is mapped to a set of shortcuts that let you perform notebook and cell actions efficiently. For example, if you are in command mode and you press `c`, you will copy the current cell - no modifier is needed.\n"
   ]
  },
  {
   "cell_type": "markdown",
   "metadata": {},
   "source": [
    "## Hotkeys\n",
    "\n",
    "There are a lot of useful hotkeys in jupyter. You can see them all in (Help > Keyboard Shortcuts).\n",
    "\n",
    "Here is a list of the ones that will save you the most time. You can use these in both command and edit mode and they will perform the same action.\n",
    "\n",
    "* **Shift + Enter** - Run cell + select next cell\n",
    "* **Alt + Enter** - Run cell + insert new cell below\n",
    "\n",
    "Here are hotkeys you can use in command mode only.\n",
    "* **a** - Insert cell above\n",
    "* **b** - Insert cell below\n",
    "* **Shift + Up-Down Arrow key** or **Shift + mouse click cells** - select multiple cells.\n",
    "* **x** - Cut the selected cell(s)\n",
    "* **c** - Copy the selected cell(s)\n",
    "* **v** - Paste the selected cell(s)\n",
    "* **m** - Convert the cell to markdown (after your run the markdown cell, you can double click it to edit)\n",
    "* **y** - Convert the cell back to code"
   ]
  },
  {
   "cell_type": "markdown",
   "metadata": {},
   "source": [
    "<a name=\"python\"/></a> <!-- link used in table of contents -->\n",
    "## Python\n",
    "\n",
    "If you are not at all familiar with Python, start learning! Although you can use any tutorial you like, here are a couple to get you started:\n",
    "* [A beginner’s guide](https://wiki.python.org/moin/BeginnersGuide)\n",
    "* [An interactive track in CodeAcademy](https://www.codecademy.com/learn/learn-python-3)\n",
    "\n",
    "Below are a number of cells you can run to get a quick refresher on Python."
   ]
  },
  {
   "cell_type": "markdown",
   "metadata": {},
   "source": [
    "#### int/float operations"
   ]
  },
  {
   "cell_type": "code",
   "execution_count": null,
   "metadata": {},
   "outputs": [],
   "source": [
    "some_int = 2\n",
    "some_float = 4."
   ]
  },
  {
   "cell_type": "code",
   "execution_count": null,
   "metadata": {},
   "outputs": [],
   "source": [
    "some_int + some_float"
   ]
  },
  {
   "cell_type": "code",
   "execution_count": null,
   "metadata": {},
   "outputs": [],
   "source": [
    "some_int * some_float"
   ]
  },
  {
   "cell_type": "code",
   "execution_count": null,
   "metadata": {
    "scrolled": true
   },
   "outputs": [],
   "source": [
    "some_int / some_float"
   ]
  },
  {
   "cell_type": "code",
   "execution_count": null,
   "metadata": {},
   "outputs": [],
   "source": [
    "2/4 # int division results in float"
   ]
  },
  {
   "cell_type": "markdown",
   "metadata": {},
   "source": [
    "#### string operations"
   ]
  },
  {
   "cell_type": "code",
   "execution_count": null,
   "metadata": {},
   "outputs": [],
   "source": [
    "some_string = \"Hello \""
   ]
  },
  {
   "cell_type": "code",
   "execution_count": null,
   "metadata": {
    "scrolled": true
   },
   "outputs": [],
   "source": [
    "some_string + \"world!\" # you can concatenate strings with + operator"
   ]
  },
  {
   "cell_type": "code",
   "execution_count": null,
   "metadata": {},
   "outputs": [],
   "source": [
    "some_string"
   ]
  },
  {
   "cell_type": "code",
   "execution_count": null,
   "metadata": {},
   "outputs": [],
   "source": [
    "some_string[:2]"
   ]
  },
  {
   "cell_type": "code",
   "execution_count": null,
   "metadata": {},
   "outputs": [],
   "source": [
    "some_string[-2:]"
   ]
  },
  {
   "cell_type": "code",
   "execution_count": null,
   "metadata": {},
   "outputs": [],
   "source": [
    "some_string[-3:-1]"
   ]
  },
  {
   "cell_type": "markdown",
   "metadata": {},
   "source": [
    "#### Array/List operations"
   ]
  },
  {
   "cell_type": "code",
   "execution_count": null,
   "metadata": {},
   "outputs": [],
   "source": [
    "some_array = [] # new empty array/list"
   ]
  },
  {
   "cell_type": "code",
   "execution_count": null,
   "metadata": {},
   "outputs": [],
   "source": [
    "some_array"
   ]
  },
  {
   "cell_type": "code",
   "execution_count": null,
   "metadata": {},
   "outputs": [],
   "source": [
    "some_array.append(11)\n",
    "some_array.append(12)\n",
    "some_array.append(13)\n",
    "some_array.append(20)"
   ]
  },
  {
   "cell_type": "code",
   "execution_count": null,
   "metadata": {},
   "outputs": [],
   "source": [
    "some_array"
   ]
  },
  {
   "cell_type": "code",
   "execution_count": null,
   "metadata": {},
   "outputs": [],
   "source": [
    "some_array.pop()"
   ]
  },
  {
   "cell_type": "code",
   "execution_count": null,
   "metadata": {},
   "outputs": [],
   "source": [
    "some_array"
   ]
  },
  {
   "cell_type": "code",
   "execution_count": null,
   "metadata": {},
   "outputs": [],
   "source": [
    "some_array[1] # indexing lists starts from 0"
   ]
  },
  {
   "cell_type": "code",
   "execution_count": null,
   "metadata": {},
   "outputs": [],
   "source": [
    "some_array[1] = 22"
   ]
  },
  {
   "cell_type": "code",
   "execution_count": null,
   "metadata": {},
   "outputs": [],
   "source": [
    "some_array # lists are mutable"
   ]
  },
  {
   "cell_type": "markdown",
   "metadata": {},
   "source": [
    "#### tuples"
   ]
  },
  {
   "cell_type": "code",
   "execution_count": null,
   "metadata": {},
   "outputs": [],
   "source": [
    "some_tuple = (1,2,3) "
   ]
  },
  {
   "cell_type": "code",
   "execution_count": null,
   "metadata": {},
   "outputs": [],
   "source": [
    "some_tuple[1]"
   ]
  },
  {
   "cell_type": "code",
   "execution_count": null,
   "metadata": {},
   "outputs": [],
   "source": [
    "some_tuple[1] = 123 # tuples are immutable (you will get an error)"
   ]
  },
  {
   "cell_type": "code",
   "execution_count": null,
   "metadata": {},
   "outputs": [],
   "source": [
    "# The only way to modify tuple is to convert it to array/list and then back to tuple\n",
    "temp_list = list(some_tuple)\n",
    "temp_list[1] = 123\n",
    "some_tuple = tuple(temp_list)\n",
    "some_tuple"
   ]
  },
  {
   "cell_type": "markdown",
   "metadata": {},
   "source": [
    "#### dictionaries"
   ]
  },
  {
   "cell_type": "code",
   "execution_count": null,
   "metadata": {},
   "outputs": [],
   "source": [
    "some_dict = {}\n",
    "some_dict['name'] = \"Alice\"\n",
    "some_dict['age'] = \"21\"\n",
    "some_dict"
   ]
  },
  {
   "cell_type": "code",
   "execution_count": null,
   "metadata": {},
   "outputs": [],
   "source": [
    "some_dict['name']"
   ]
  },
  {
   "cell_type": "code",
   "execution_count": null,
   "metadata": {},
   "outputs": [],
   "source": [
    "some_dict.keys()"
   ]
  },
  {
   "cell_type": "code",
   "execution_count": null,
   "metadata": {},
   "outputs": [],
   "source": [
    "some_dict.values()"
   ]
  },
  {
   "cell_type": "code",
   "execution_count": null,
   "metadata": {},
   "outputs": [],
   "source": [
    "some_dict.items() # you can iterate through these"
   ]
  },
  {
   "cell_type": "code",
   "execution_count": null,
   "metadata": {},
   "outputs": [],
   "source": [
    "for key, value in some_dict.items():\n",
    "    print(f\"{key} - {value}\")"
   ]
  },
  {
   "cell_type": "markdown",
   "metadata": {},
   "source": [
    "#### loops"
   ]
  },
  {
   "cell_type": "code",
   "execution_count": null,
   "metadata": {},
   "outputs": [],
   "source": [
    "# For loops\n",
    "for i in [10,20,30,40]:\n",
    "    print(i)"
   ]
  },
  {
   "cell_type": "code",
   "execution_count": null,
   "metadata": {},
   "outputs": [],
   "source": [
    "# More for loops\n",
    "for i in range(5):\n",
    "    print(f\"square of {i} is {i**2}\")"
   ]
  },
  {
   "cell_type": "code",
   "execution_count": null,
   "metadata": {},
   "outputs": [],
   "source": [
    "# While loops\n",
    "i=0\n",
    "while i < 5:\n",
    "    print(f\"square of {i} is {i**2}\")\n",
    "    i+=1"
   ]
  },
  {
   "cell_type": "code",
   "execution_count": null,
   "metadata": {},
   "outputs": [],
   "source": [
    "some_array = []\n",
    "for i in range(5):\n",
    "    some_array.append(i**3)\n",
    "some_array"
   ]
  },
  {
   "cell_type": "markdown",
   "metadata": {},
   "source": [
    "#### list comprehensions"
   ]
  },
  {
   "cell_type": "code",
   "execution_count": null,
   "metadata": {},
   "outputs": [],
   "source": [
    "some_array = [i**3 for i in range(5)]\n",
    "some_array"
   ]
  },
  {
   "cell_type": "code",
   "execution_count": null,
   "metadata": {},
   "outputs": [],
   "source": [
    "even_numbers = [i for i in range(25) if i%2 == 0]\n",
    "even_numbers"
   ]
  },
  {
   "cell_type": "markdown",
   "metadata": {},
   "source": [
    "#### functions"
   ]
  },
  {
   "cell_type": "code",
   "execution_count": null,
   "metadata": {},
   "outputs": [],
   "source": [
    "def some_function(some_arg):\n",
    "    print(f\"Argument is: {some_arg}\")"
   ]
  },
  {
   "cell_type": "code",
   "execution_count": null,
   "metadata": {},
   "outputs": [],
   "source": [
    "some_function(1)"
   ]
  },
  {
   "cell_type": "code",
   "execution_count": null,
   "metadata": {},
   "outputs": [],
   "source": [
    "def some_function(some_arg=42): # default values\n",
    "    print(f\"Argument is: {some_arg}\")"
   ]
  },
  {
   "cell_type": "code",
   "execution_count": null,
   "metadata": {},
   "outputs": [],
   "source": [
    "some_function()"
   ]
  },
  {
   "cell_type": "markdown",
   "metadata": {},
   "source": [
    "#### classes"
   ]
  },
  {
   "cell_type": "code",
   "execution_count": null,
   "metadata": {},
   "outputs": [],
   "source": [
    "class SomeClass():\n",
    "    def __init__(self, a, b):\n",
    "        self.a = a\n",
    "        self.b = b\n",
    "    def get_a(self):\n",
    "        return self.a\n",
    "    def get_b(self):\n",
    "        return self.b"
   ]
  },
  {
   "cell_type": "code",
   "execution_count": null,
   "metadata": {},
   "outputs": [],
   "source": [
    "my_object = SomeClass(10,100)\n",
    "my_object.get_b()"
   ]
  },
  {
   "cell_type": "markdown",
   "metadata": {},
   "source": [
    "#### function pass by reference"
   ]
  },
  {
   "cell_type": "code",
   "execution_count": null,
   "metadata": {},
   "outputs": [],
   "source": [
    "def some_function():\n",
    "    return 42\n",
    "\n",
    "def print_function_output(fn):\n",
    "    print(fn())\n",
    "\n",
    "print_function_output(some_function) # note that some_function has not executed here"
   ]
  },
  {
   "cell_type": "markdown",
   "metadata": {},
   "source": [
    "#### unpacking"
   ]
  },
  {
   "cell_type": "code",
   "execution_count": null,
   "metadata": {},
   "outputs": [],
   "source": [
    "# Using asterisk to pack the rest of the output\n",
    "def foo():\n",
    "    return 1,2,3,4,5,6,7\n",
    "\n",
    "a, *_ = foo() # in case you are interested only in the first value returned\n",
    "a"
   ]
  },
  {
   "cell_type": "markdown",
   "metadata": {},
   "source": [
    "#### Nobody is perfect. A few Python quirks"
   ]
  },
  {
   "cell_type": "code",
   "execution_count": null,
   "metadata": {},
   "outputs": [],
   "source": [
    "def foo(a=[]):\n",
    "    a.append(1)\n",
    "    print(a)"
   ]
  },
  {
   "cell_type": "code",
   "execution_count": null,
   "metadata": {},
   "outputs": [],
   "source": [
    "foo()"
   ]
  },
  {
   "cell_type": "code",
   "execution_count": null,
   "metadata": {},
   "outputs": [],
   "source": [
    "foo()"
   ]
  },
  {
   "cell_type": "code",
   "execution_count": null,
   "metadata": {},
   "outputs": [],
   "source": [
    "foo()"
   ]
  },
  {
   "cell_type": "markdown",
   "metadata": {},
   "source": [
    "For more details and how to avoid it, see: [https://docs.python-guide.org/writing/gotchas/](https://docs.python-guide.org/writing/gotchas/)"
   ]
  },
  {
   "cell_type": "markdown",
   "metadata": {},
   "source": [
    "Here is another quirk:"
   ]
  },
  {
   "cell_type": "code",
   "execution_count": null,
   "metadata": {},
   "outputs": [],
   "source": [
    "a = 0\n",
    "for i in range(10000000):\n",
    "    a += 0.1\n",
    "print(a)"
   ]
  },
  {
   "cell_type": "markdown",
   "metadata": {},
   "source": [
    "The problem is an approximation of 0.1. The true decimal value of the binary approximation stored by the machine is:\n",
    "```python\n",
    "> 0.1\n",
    "0.1000000000000000055511151231257827021181583404541015625\n",
    "```\n",
    "The error in the approximation accumulates as you sum up many 0.1s. See here for more detail: https://docs.python.org/3.4/tutorial/floatingpoint.html"
   ]
  },
  {
   "cell_type": "markdown",
   "metadata": {},
   "source": [
    "And yet another quirk, that students have trouble with quite often in the assignments for this class:"
   ]
  },
  {
   "cell_type": "code",
   "execution_count": null,
   "metadata": {},
   "outputs": [],
   "source": [
    "a = [1,2]\n",
    "b = a\n",
    "b.append(3)\n",
    "print(a)\n",
    "print(b)"
   ]
  },
  {
   "cell_type": "markdown",
   "metadata": {},
   "source": [
    "The last case happens because the lists/arrays are passed by reference. You can avoid it using the following technique:"
   ]
  },
  {
   "cell_type": "code",
   "execution_count": null,
   "metadata": {},
   "outputs": [],
   "source": [
    "import copy\n",
    "a = [1,2]\n",
    "b = copy.copy(a)\n",
    "b.append(3)\n",
    "print(a)\n",
    "print(b)"
   ]
  },
  {
   "cell_type": "markdown",
   "metadata": {},
   "source": [
    "### Debugger\n",
    "\n",
    "You can use debuggers within jupyter. There are two available by default: `%pdb` & `%debug`. We won't be covering those here. There are multiple tutorials available online that you can reference.\n",
    "* https://davidhamann.de/2017/04/22/debugging-jupyter-notebooks/\n",
    "* https://www.blog.pythonlibrary.org/2018/10/17/jupyter-notebook-debugging/\n",
    "\n",
    "There are also visual third party debuggers that you can try: \n",
    "* https://www.analyticsvidhya.com/blog/2018/07/pixie-debugger-python-debugging-tool-jupyter-notebooks-data-scientist-must-use/."
   ]
  },
  {
   "cell_type": "markdown",
   "metadata": {},
   "source": [
    "<a name=\"git\"/></a> <!-- <-this link used in table of contents -->\n",
    "## Git  - Keeping your code upto date!\n",
    "\n",
    "After cloning, we recommend creating a branch and doing your development on that branch:\n",
    "\n",
    "`git checkout -b develop`\n",
    "\n",
    "(assuming develop is the name of your branch)\n",
    "\n",
    "If the TAs push out an update to the assignment, you should commit (or stash if you are more comfortable with git) the changes that are unsaved in your repository:\n",
    "\n",
    "`git commit -am \"<some funny message>\"`\n",
    "\n",
    "Then update the master branch from remote:\n",
    "\n",
    "`git fetch origin master`\n",
    "\n",
    "This updates your local copy of the master branch. Now try to merge the master branch into your development branch:\n",
    "\n",
    "`git merge master`\n",
    "\n",
    "(assuming that you are on your development branch)\n",
    "\n",
    "While on your development branch you can also just run:\n",
    "\n",
    "`git pull origin master`\n",
    "\n",
    "which will perform a fetch and then a merge into the branch you are on.\n",
    "\n",
    "There are likely to be merge conflicts during this step. If so, first check which files are in conflict:\n",
    "\n",
    "`git status`\n",
    "\n",
    "The files in conflict are the ones that are \"Not staged for commit\". Open these files using your favourite editor and look for lines containing `<<<<` and `>>>>`. Resolve conflicts in whatever way you deem best. You can use special software like [Sublime Merge](https://www.sublimemerge.com/) to do so. Once you have resolved all conflicts, stage the files that were in conflict:\n",
    "\n",
    "`git add -A .`\n",
    "\n",
    "Finally, commit the new updates to your branch and continue developing:\n",
    "\n",
    "`git commit -am \"<funny message vilifying TAs for the update>\"`"
   ]
  },
  {
   "cell_type": "markdown",
   "metadata": {},
   "source": [
    "---"
   ]
  },
  {
   "cell_type": "markdown",
   "metadata": {},
   "source": [
    "<a name=\"submission\"/></a> <!-- <-this link used in table of contents -->\n",
    "## First submission"
   ]
  },
  {
   "cell_type": "markdown",
   "metadata": {},
   "source": [
    "For some (not all) future assignments, you will implement your code using a jupyter notebook. In order for us to grade your code, you must export your code into a submission file and then submit that file to Gradescope. We will see an example of this below.\n",
    "\n",
    "Once you are done with an Assignment or have reached a submission checkpoint, there are two ways you can export your code to the submission file:\n",
    "1. Simply run a cell with the following code\n",
    "```python\n",
    "%run helpers/notebook2script\n",
    "```\n",
    "2. Or run `python helpers/notebook2script.py` from your terminal, while in the assignment repo.\n",
    "\n",
    "The script will parse the notebook, extract the cells that contain the `#export` comment on top of them and copy them to a `submission.py` file. The jupyter notebooks we provide for any Assignment will already include the `#export` comment at the top of any cells that contain skeleton code for code that needs to be submitted. If you add any cells to the notebook, you will need to add the `#export` line to ensure it gets exported to the submission file. Adding cells is usually not required, but may be useful if you are adding helper functions or additional classes to help decompose your code. You should verify that the final submission file contains all of the functions you were required to implement as well as any helper functions/classes you've added and then submit it to Gradescope for grading.\n",
    "\n",
    "Let's walk through an example:"
   ]
  },
  {
   "cell_type": "code",
   "execution_count": null,
   "metadata": {},
   "outputs": [],
   "source": [
    "#export\n",
    "def return_name():\n",
    "    \"\"\"Returns student name\"\"\"\n",
    "    #TODO return your name as a string\n",
    "    return None"
   ]
  },
  {
   "cell_type": "code",
   "execution_count": null,
   "metadata": {},
   "outputs": [],
   "source": [
    "print(f\"Hello {return_name()}\")"
   ]
  },
  {
   "cell_type": "markdown",
   "metadata": {},
   "source": [
    "**Save your notebook!** and run:"
   ]
  },
  {
   "cell_type": "code",
   "execution_count": null,
   "metadata": {},
   "outputs": [],
   "source": [
    "%run helpers/notebook2script"
   ]
  },
  {
   "cell_type": "markdown",
   "metadata": {},
   "source": [
    "Then, run the next cell to see the content of the `submission.py` file. Or simply open it in an editor of your choice. Note that the `%load` magic command will load the contents of the file into the same cell (just beneath the command). It also comments out the load statement itself, which will need to be uncommented to reload the file with new contents."
   ]
  },
  {
   "cell_type": "code",
   "execution_count": null,
   "metadata": {},
   "outputs": [],
   "source": [
    "%load submission.py"
   ]
  },
  {
   "cell_type": "markdown",
   "metadata": {},
   "source": [
    "Now go ahead and submit the `submission.py` file to [Gradescope](https://www.gradescope.com/). It is worth **1 point of your Final grade**! ;)"
   ]
  },
  {
   "cell_type": "markdown",
   "metadata": {},
   "source": [
    "---"
   ]
  },
  {
   "cell_type": "markdown",
   "metadata": {},
   "source": [
    "<a name=\"summary\"/></a> <!-- <-this link used in table of contents -->\n",
    "# Summary\n",
    "\n",
    "We highly recommend that you spend some time in this notebook and play around with any new concepts you encountered in this tutorial. If you haven't worked with jupyter notebooks before, experimenting with them here will save you a lot of time in the future.\n",
    "\n",
    "Here is a list of things to remember:\n",
    "\n",
    "1. Cells in the notebook can be executed in arbitrary order\n",
    "1. It might be healthy to restart the kernel from time to time if you are losing track of what you did/didn't execute\n",
    "1. Use **Restart & Clear Output** to restart the kernel to avoid confusion with old output\n",
    "1. Feel free to rearrange the cells in notebook since only **.py** files are submitted\n",
    "1. `#export` comments will be included by default, but make sure you double check the autogenerated `submission.py` before submitting."
   ]
  },
  {
   "cell_type": "markdown",
   "metadata": {},
   "source": [
    " "
   ]
  },
  {
   "cell_type": "markdown",
   "metadata": {},
   "source": [
    "# Contribute to the class"
   ]
  },
  {
   "cell_type": "markdown",
   "metadata": {},
   "source": [
    "If you find any typos, have some issues or suggestions on how to improve this or any future assignments please feel free to create a Pull Request or make a Piazza post about it."
   ]
  },
  {
   "cell_type": "markdown",
   "metadata": {},
   "source": [
    "---\n",
    "<!-- Hi there! -->"
   ]
  }
 ],
 "metadata": {
  "kernelspec": {
   "display_name": "Python 3",
   "language": "python",
   "name": "python3"
  },
  "language_info": {
   "codemirror_mode": {
    "name": "ipython",
    "version": 3
   },
   "file_extension": ".py",
   "mimetype": "text/x-python",
   "name": "python",
   "nbconvert_exporter": "python",
   "pygments_lexer": "ipython3",
   "version": "3.7.9"
  }
 },
 "nbformat": 4,
 "nbformat_minor": 2
}
